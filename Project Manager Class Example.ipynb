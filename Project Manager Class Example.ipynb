{
 "cells": [
  {
   "cell_type": "markdown",
   "id": "08475756-0fdb-43c2-83ec-05e48f7f93fb",
   "metadata": {},
   "source": [
    "## Project Manager Class Example"
   ]
  },
  {
   "cell_type": "code",
   "execution_count": 3,
   "id": "3f4e0d8c-173e-4566-945a-38a525cb4a10",
   "metadata": {},
   "outputs": [
    {
     "name": "stdout",
     "output_type": "stream",
     "text": [
      "\n",
      "Available Projects:\n",
      "1. Project One\n",
      "2. Project Two\n"
     ]
    },
    {
     "name": "stdin",
     "output_type": "stream",
     "text": [
      "Choose a project (1-2) or type 'exit' to quit:  1\n"
     ]
    },
    {
     "name": "stdout",
     "output_type": "stream",
     "text": [
      "Available Functions:\n",
      "1\n",
      "2\n"
     ]
    },
    {
     "name": "stdin",
     "output_type": "stream",
     "text": [
      "Choose a function or type 'exit' to quit:  1\n"
     ]
    },
    {
     "name": "stdout",
     "output_type": "stream",
     "text": [
      "Executing 1 in Project One:\n",
      "Hello from Project One\n",
      "None\n",
      "\n",
      "Available Projects:\n",
      "1. Project One\n",
      "2. Project Two\n"
     ]
    },
    {
     "name": "stdin",
     "output_type": "stream",
     "text": [
      "Choose a project (1-2) or type 'exit' to quit:  2\n"
     ]
    },
    {
     "name": "stdout",
     "output_type": "stream",
     "text": [
      "Available Functions:\n",
      "1\n",
      "2\n"
     ]
    },
    {
     "name": "stdin",
     "output_type": "stream",
     "text": [
      "Choose a function or type 'exit' to quit:  2\n"
     ]
    },
    {
     "name": "stdout",
     "output_type": "stream",
     "text": [
      "Executing 2 in Project Two:\n",
      "Running Project Two Function 2\n",
      "None\n",
      "\n",
      "Available Projects:\n",
      "1. Project One\n",
      "2. Project Two\n"
     ]
    },
    {
     "name": "stdin",
     "output_type": "stream",
     "text": [
      "Choose a project (1-2) or type 'exit' to quit:  exit\n"
     ]
    },
    {
     "name": "stdout",
     "output_type": "stream",
     "text": [
      "Exiting the application. Goodbye!\n"
     ]
    }
   ],
   "source": [
    "class Project:\n",
    "    def __init__(self, name):\n",
    "        self.name = name\n",
    "        self.functions = {}\n",
    "\n",
    "    def add_function(self, func_name, code):\n",
    "        self.functions[func_name] = code\n",
    "\n",
    "    def remove_function(self, func_name):\n",
    "        if func_name in self.functions:\n",
    "            del self.functions[func_name]\n",
    "        else:\n",
    "            print(f\"No such function: {func_name}\")\n",
    "\n",
    "\n",
    "class App:\n",
    "    def __init__(self):\n",
    "        self.projects = {}\n",
    "\n",
    "    def add_project(self, project_name):\n",
    "        new_project = Project(project_name)\n",
    "        self.projects[project_name] = new_project\n",
    "        return new_project\n",
    "\n",
    "    def run_app(self, project_name, choice):\n",
    "        if choice == \"exit\":\n",
    "            print(\"Exiting the application. Goodbye!\")\n",
    "            return True\n",
    "\n",
    "        project = self.projects.get(project_name)\n",
    "        if not project:\n",
    "            print(f\"No such project: {project_name}\")\n",
    "            return None\n",
    "\n",
    "        if choice not in project.functions:\n",
    "            print(\"Invalid choice. Please choose a valid function.\")\n",
    "            return None\n",
    "\n",
    "        code = project.functions[choice]\n",
    "        print(f\"Executing {choice} in {project.name}:\")\n",
    "        result_code = eval(code)  # Make sure the code is safe to eval\n",
    "        print(result_code)\n",
    "\n",
    "        if result_code != 0:\n",
    "            project.remove_function(choice)\n",
    "\n",
    "        return False\n",
    "\n",
    "\n",
    "def main():\n",
    "    app = App()\n",
    "\n",
    "    # Add example projects and functions\n",
    "    project1 = app.add_project(\"Project One\")\n",
    "    project1.add_function(\"1\", \"print('Hello from Project One')\")\n",
    "    project1.add_function(\"2\", \"print('Running Project One Function 2')\")\n",
    "\n",
    "    project2 = app.add_project(\"Project Two\")\n",
    "    project2.add_function(\"1\", \"print('Hello from Project Two')\")\n",
    "    project2.add_function(\"2\", \"print('Running Project Two Function 2')\")\n",
    "\n",
    "    while True:\n",
    "        print(\"\\nAvailable Projects:\")\n",
    "        for i, project in enumerate(app.projects.keys(), start=1):\n",
    "            print(f\"{i}. {project}\")\n",
    "\n",
    "        user_choice = input(\"Choose a project (1-2) or type 'exit' to quit: \")\n",
    "\n",
    "        if user_choice.lower() == \"exit\":\n",
    "            print(\"Exiting the application. Goodbye!\")\n",
    "            break\n",
    "\n",
    "        try:\n",
    "            project_name = list(app.projects.keys())[int(user_choice) - 1]\n",
    "        except (IndexError, ValueError):\n",
    "            print(\"Invalid project choice. Please try again.\")\n",
    "            continue\n",
    "\n",
    "        print(\"Available Functions:\")\n",
    "        for func in app.projects[project_name].functions.keys():\n",
    "            print(func)\n",
    "\n",
    "        function_choice = input(\"Choose a function or type 'exit' to quit: \")\n",
    "\n",
    "        if function_choice.lower() == \"exit\":\n",
    "            print(\"Exiting the application. Goodbye!\")\n",
    "            break\n",
    "\n",
    "        app.run_app(project_name, function_choice)\n",
    "\n",
    "\n",
    "if __name__ == \"__main__\":\n",
    "    main()\n"
   ]
  },
  {
   "cell_type": "markdown",
   "id": "a211d97e-b4d0-4324-96d9-6d682848beb3",
   "metadata": {},
   "source": [
    "## The second simple"
   ]
  },
  {
   "cell_type": "code",
   "execution_count": 1,
   "id": "a390fb2f-5ca1-4b4b-b4a1-413f6dd2698f",
   "metadata": {},
   "outputs": [
    {
     "name": "stdout",
     "output_type": "stream",
     "text": [
      "\n",
      "Select an app to run:\n",
      "1. Project One\n",
      "2. Project Two\n",
      "3. Project Three\n",
      "4. Project Four\n",
      "5. Project Five\n",
      "6. Exit\n"
     ]
    },
    {
     "name": "stdin",
     "output_type": "stream",
     "text": [
      "Enter the number of the app you want to run:  1\n"
     ]
    },
    {
     "name": "stdout",
     "output_type": "stream",
     "text": [
      "Running Project One\n",
      "\n",
      "Select an app to run:\n",
      "1. Project One\n",
      "2. Project Two\n",
      "3. Project Three\n",
      "4. Project Four\n",
      "5. Project Five\n",
      "6. Exit\n"
     ]
    },
    {
     "name": "stdin",
     "output_type": "stream",
     "text": [
      "Enter the number of the app you want to run:  2\n"
     ]
    },
    {
     "name": "stdout",
     "output_type": "stream",
     "text": [
      "Running Project Two\n",
      "\n",
      "Select an app to run:\n",
      "1. Project One\n",
      "2. Project Two\n",
      "3. Project Three\n",
      "4. Project Four\n",
      "5. Project Five\n",
      "6. Exit\n"
     ]
    },
    {
     "name": "stdin",
     "output_type": "stream",
     "text": [
      "Enter the number of the app you want to run:  6\n"
     ]
    },
    {
     "name": "stdout",
     "output_type": "stream",
     "text": [
      "Exiting the app. Goodbye!\n"
     ]
    }
   ],
   "source": [
    "class MainApp:\n",
    "    def __init__(self):\n",
    "        pass\n",
    "\n",
    "    def project_one(self):\n",
    "        print(\"Running Project One\")\n",
    "        # Add your project one code here\n",
    "\n",
    "    def project_two(self):\n",
    "        print(\"Running Project Two\")\n",
    "        # Add your project two code here\n",
    "\n",
    "    def project_three(self):\n",
    "        print(\"Running Project Three\")\n",
    "        # Add your project three code here\n",
    "\n",
    "    def project_four(self):\n",
    "        print(\"Running Project Four\")\n",
    "        # Add your project four code here\n",
    "\n",
    "    def project_five(self):\n",
    "        print(\"Running Project Five\")\n",
    "        # Add your project five code here\n",
    "\n",
    "    def main(self):\n",
    "        while True:\n",
    "            print(\"\\nSelect an app to run:\")\n",
    "            print(\"1. Project One\")\n",
    "            print(\"2. Project Two\")\n",
    "            print(\"3. Project Three\")\n",
    "            print(\"4. Project Four\")\n",
    "            print(\"5. Project Five\")\n",
    "            print(\"6. Exit\")\n",
    "\n",
    "            choice = input(\"Enter the number of the app you want to run: \")\n",
    "\n",
    "            if choice == '1':\n",
    "                self.project_one()\n",
    "            elif choice == '2':\n",
    "                self.project_two()\n",
    "            elif choice == '3':\n",
    "                self.project_three()\n",
    "            elif choice == '4':\n",
    "                self.project_four()\n",
    "            elif choice == '5':\n",
    "                self.project_five()\n",
    "            elif choice == '6':\n",
    "                print(\"Exiting the app. Goodbye!\")\n",
    "                break\n",
    "            else:\n",
    "                print(\"Invalid choice. Please try again.\")\n",
    "\n",
    "if __name__ == \"__main__\":\n",
    "    app = MainApp()\n",
    "    app.main()\n"
   ]
  },
  {
   "cell_type": "code",
   "execution_count": null,
   "id": "b7790922-5bc9-45b7-b536-0758f1ab1b52",
   "metadata": {},
   "outputs": [],
   "source": []
  }
 ],
 "metadata": {
  "kernelspec": {
   "display_name": "Python 3 (ipykernel)",
   "language": "python",
   "name": "python3"
  },
  "language_info": {
   "codemirror_mode": {
    "name": "ipython",
    "version": 3
   },
   "file_extension": ".py",
   "mimetype": "text/x-python",
   "name": "python",
   "nbconvert_exporter": "python",
   "pygments_lexer": "ipython3",
   "version": "3.12.2"
  }
 },
 "nbformat": 4,
 "nbformat_minor": 5
}
